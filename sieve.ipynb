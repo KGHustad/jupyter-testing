{
 "cells": [
  {
   "cell_type": "markdown",
   "metadata": {},
   "source": [
    "For testing extensive memory usage. Set `n` equal to the desired memory usage in bytes."
   ]
  },
  {
   "cell_type": "code",
   "execution_count": null,
   "metadata": {
    "collapsed": true
   },
   "outputs": [],
   "source": [
    "import math\n",
    "import numpy as np"
   ]
  },
  {
   "cell_type": "code",
   "execution_count": null,
   "metadata": {
    "collapsed": true
   },
   "outputs": [],
   "source": [
    "def primes_up_to(n):\n",
    "    non_prime = np.zeros(n+1, dtype=bool)\n",
    "    non_prime[0] = True\n",
    "    non_prime[1] = True\n",
    "    candidate = 2\n",
    "    last_candidate = math.ceil(math.sqrt(n))\n",
    "    while candidate <= last_candidate:\n",
    "        while non_prime[candidate]:\n",
    "            candidate += 1\n",
    "        i = candidate\n",
    "        while i*candidate <= n:\n",
    "            non_prime[i*candidate] = True\n",
    "            i += 1\n",
    "        candidate += 1\n",
    "    primes = []\n",
    "    for i in xrange(n+1):\n",
    "        if not non_prime[i]:\n",
    "            primes.append(i)\n",
    "    return primes"
   ]
  },
  {
   "cell_type": "code",
   "execution_count": null,
   "metadata": {},
   "outputs": [],
   "source": [
    "n = 4E9 # this number is proportional to the memory usage in bytes\n",
    "p = primes_up_to(int(n))\n",
    "len(p)"
   ]
  }
 ],
 "metadata": {
  "kernelspec": {
   "display_name": "Python 2",
   "language": "python",
   "name": "python2"
  },
  "language_info": {
   "codemirror_mode": {
    "name": "ipython",
    "version": 2
   },
   "file_extension": ".py",
   "mimetype": "text/x-python",
   "name": "python",
   "nbconvert_exporter": "python",
   "pygments_lexer": "ipython2",
   "version": "2.7.13"
  }
 },
 "nbformat": 4,
 "nbformat_minor": 2
}
