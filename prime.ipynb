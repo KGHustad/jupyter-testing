{
 "cells": [
  {
   "cell_type": "markdown",
   "metadata": {},
   "source": [
    "For testing with full CPU usage for longer periods of time. (The algorithm is intentionally inefficient.)"
   ]
  },
  {
   "cell_type": "code",
   "execution_count": null,
   "metadata": {
    "collapsed": true
   },
   "outputs": [],
   "source": [
    "def primes(n):\n",
    "    primes = []\n",
    "    prime_count = 0\n",
    "    prime_candidate = 2\n",
    "    while prime_count < n:\n",
    "        candidate_is_prime = True\n",
    "        for prime in primes:\n",
    "            if prime_candidate % prime == 0:\n",
    "                candidate_is_prime = False\n",
    "                break\n",
    "        if candidate_is_prime:\n",
    "            primes.append(prime_candidate)\n",
    "            prime_count += 1\n",
    "        prime_candidate += 1\n",
    "    return primes"
   ]
  },
  {
   "cell_type": "code",
   "execution_count": null,
   "metadata": {},
   "outputs": [],
   "source": [
    "n = 1E7\n",
    "p = primes(int(n))\n",
    "max(p)"
   ]
  }
 ],
 "metadata": {
  "kernelspec": {
   "display_name": "Python 3",
   "language": "python",
   "name": "python3"
  },
  "language_info": {
   "codemirror_mode": {
    "name": "ipython",
    "version": 2
   },
   "file_extension": ".py",
   "mimetype": "text/x-python",
   "name": "python",
   "nbconvert_exporter": "python",
   "pygments_lexer": "ipython2",
   "version": "2.7.13"
  }
 },
 "nbformat": 4,
 "nbformat_minor": 2
}
